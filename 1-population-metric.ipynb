{
 "cells": [
  {
   "cell_type": "markdown",
   "id": "cce10cf4",
   "metadata": {},
   "source": [
    "# Population metric\n",
    "\n",
    "Here we will perform a simple population metric to get an idea how much\n",
    "data might be leaked.\n",
    "This is much less accurate than the reference metric, but still gives a good\n",
    "idea whether some of the data can be leaked.\n",
    "\n",
    "## First exercices\n",
    "## Further exercices\n",
    "## Advanced exercices - no support"
   ]
  },
  {
   "cell_type": "code",
   "execution_count": null,
   "id": "0c0c64b3",
   "metadata": {},
   "outputs": [],
   "source": [
    "%run ml_load_data.ipynb\n",
    "verbose_population = True"
   ]
  },
  {
   "cell_type": "markdown",
   "id": "f1dc2946",
   "metadata": {},
   "source": [
    "## Measuring Population-Wise Privacy Leakage"
   ]
  },
  {
   "cell_type": "code",
   "execution_count": null,
   "id": "64fb5d5e",
   "metadata": {
    "tags": []
   },
   "outputs": [],
   "source": [
    "# Extract the features for the membership inference attack.\n",
    "#preds_train = target_model.predict_proba(X_train)\n",
    "#preds_test = target_model.predict_proba(X_test)\n",
    "\n",
    "logits_train = logits(target_model, X_train, y_train)\n",
    "logits_test = logits(target_model, X_test, y_test)"
   ]
  },
  {
   "cell_type": "code",
   "execution_count": null,
   "id": "5ddd14de",
   "metadata": {
    "tags": []
   },
   "outputs": [],
   "source": [
    "def visualize_vals(train_vals, test_vals):\n",
    "    \"\"\"Visualize feature values on train and test data.\"\"\"\n",
    "    return sns.displot(\n",
    "        data=pd.concat([\n",
    "                pd.DataFrame(dict(val=train_vals)).assign(membership=\"train\"),\n",
    "                pd.DataFrame(dict(val=test_vals)).assign(membership=\"test\"),\n",
    "        ]),\n",
    "        x=\"val\",\n",
    "        hue=\"membership\",\n",
    "        kind=\"hist\",\n",
    "        stat=\"probability\",\n",
    "        rug=True,\n",
    "        common_norm=False\n",
    "   ).set(title=\"Feature values for train and test\")"
   ]
  },
  {
   "cell_type": "code",
   "execution_count": null,
   "id": "dbfb0c19",
   "metadata": {
    "tags": []
   },
   "outputs": [],
   "source": [
    "# Visualize the features. If it is possible to tell train data from test data, then\n",
    "# our model is vulnerable to membership inference.\n",
    "if verbose_population:\n",
    "    visualize_vals(logits_train, logits_test)"
   ]
  },
  {
   "cell_type": "markdown",
   "id": "2a7c4479",
   "metadata": {},
   "source": [
    "### ROC curve of the membership attack"
   ]
  },
  {
   "cell_type": "code",
   "execution_count": null,
   "id": "c2f12cb1",
   "metadata": {
    "tags": []
   },
   "outputs": [],
   "source": [
    "if verbose_population:\n",
    "    plot_rfc_auroc(np.concatenate([[1] * len(logits_train), [0] * len(logits_test)]),\n",
    "                   np.concatenate([logits_train, logits_test]), \"ROC of population attack\")"
   ]
  },
  {
   "cell_type": "code",
   "execution_count": null,
   "id": "e678a0ed",
   "metadata": {},
   "outputs": [],
   "source": []
  }
 ],
 "metadata": {
  "kernelspec": {
   "display_name": "Python 3 (ipykernel)",
   "language": "python",
   "name": "python3"
  },
  "language_info": {
   "codemirror_mode": {
    "name": "ipython",
    "version": 3
   },
   "file_extension": ".py",
   "mimetype": "text/x-python",
   "name": "python",
   "nbconvert_exporter": "python",
   "pygments_lexer": "ipython3",
   "version": "3.10.9"
  }
 },
 "nbformat": 4,
 "nbformat_minor": 5
}
