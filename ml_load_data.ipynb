{
 "cells": [
  {
   "cell_type": "markdown",
   "id": "cce10cf4",
   "metadata": {},
   "source": [
    "# Loading data and baseline\n",
    "\n",
    "In this notebook we'll load the data and calculate the baseline for the accuracy."
   ]
  },
  {
   "cell_type": "code",
   "execution_count": null,
   "id": "0c0c64b3",
   "metadata": {},
   "outputs": [],
   "source": [
    "# All needed imports\n",
    "\n",
    "import warnings\n",
    "\n",
    "import pandas as pd\n",
    "import numpy as np\n",
    "import seaborn as sns\n",
    "import tensorflow as tf\n",
    "\n",
    "from tqdm import tqdm as tqdm\n",
    "from scipy import stats\n",
    "\n",
    "from sklearn.preprocessing import StandardScaler\n",
    "from sklearn.model_selection import train_test_split\n",
    "from sklearn.ensemble import RandomForestClassifier\n",
    "from sklearn.metrics import classification_report, log_loss, roc_curve, roc_auc_score, auc\n",
    "\n",
    "verbose_load = True"
   ]
  },
  {
   "cell_type": "code",
   "execution_count": null,
   "id": "c454f8ef",
   "metadata": {},
   "outputs": [],
   "source": [
    "# Define two data models for testing\n",
    "\n",
    "def get_heart_failure():\n",
    "    # Dataset: https://figshare.le.ac.uk/articles/dataset/Myocardial_infarction_complications_Database/12045261/3\n",
    "    # Myocardial infarction complications\n",
    "    print(\"Loading myocardial infarction dataset\")\n",
    "    df = pd.read_csv(\"https://figshare.le.ac.uk/ndownloader/files/23581310\")\n",
    "    complications = df.columns[-12:]\n",
    "    target_complication = \"ZSN\"  # Chronic heart failure\n",
    "    freq_na_cols = df.columns[df.isna().mean(axis=0) > 0.1]\n",
    "    df = df.drop(columns=freq_na_cols).dropna()\n",
    "\n",
    "    X = df.drop(columns=complications)\n",
    "    y = df[target_complication]\n",
    "    return X, y\n",
    "\n",
    "\n",
    "def get_diabetes():\n",
    "    # Dataset: https://www.kaggle.com/datasets/uciml/pima-indians-diabetes-database\n",
    "    # As you need to sign in, this uses a local copy\n",
    "    print(\"Loading diabetes dataset\")\n",
    "    df = pd.read_csv('datasets/diabetes.csv')\n",
    "\n",
    "    df[['Glucose','BloodPressure','SkinThickness','Insulin','BMI']] = df[['Glucose','BloodPressure','SkinThickness','Insulin','BMI']].replace(0,np.NaN)\n",
    "    df['Glucose'].fillna(df['Glucose'].mean(), inplace=True)\n",
    "    df['BloodPressure'].fillna(df['BloodPressure'].mean(), inplace=True)\n",
    "    df['SkinThickness'].fillna(df['SkinThickness'].mean(), inplace=True)\n",
    "    df['Insulin'].fillna(df['Insulin'].mean(), inplace=True)\n",
    "    df['BMI'].fillna(df['BMI'].mean(), inplace=True)\n",
    "    \n",
    "    target = \"Outcome\"\n",
    "    X = df.drop(columns=target)\n",
    "    y = df[target]\n",
    "\n",
    "    return X, y\n",
    "\n",
    "\n",
    "#X, y = get_heart_failure()\n",
    "X, y = get_diabetes()\n",
    "X_train, X_test, y_train, y_test = train_test_split(X, y, test_size=0.2, random_state=42)\n",
    "scaler = StandardScaler().set_output(transform=\"pandas\")\n",
    "scaler.fit(X_train)\n",
    "X_train = scaler.transform(X_train)\n",
    "X_test = scaler.transform(X_test)"
   ]
  },
  {
   "cell_type": "markdown",
   "id": "4865c83a",
   "metadata": {},
   "source": [
    "### Fit a simple RandomForestClassifier"
   ]
  },
  {
   "cell_type": "code",
   "execution_count": null,
   "id": "95aafbad",
   "metadata": {
    "tags": []
   },
   "outputs": [],
   "source": [
    "def train_model(X_train, y_train, seed=42):\n",
    "    rfc = RandomForestClassifier(\n",
    "        n_estimators=75,\n",
    "        min_samples_split=2,\n",
    "        max_depth=8,\n",
    "        random_state=seed,\n",
    "    )\n",
    "    rfc.fit(X_train, y_train)\n",
    "    return rfc\n",
    "    \n",
    "target_model = train_model(X_train, y_train)\n",
    "\n",
    "if verbose_load:\n",
    "    # The classifier's accuracy vs. random baseline. We are doing a bit better than the baseline.\n",
    "    print(f\"Baseline: {max(y_test.mean(), 1 - y_test.mean()):0.2f}\")\n",
    "    print(f\"Our test-score: {target_model.score(X_test, y_test):0.2f}\" )"
   ]
  },
  {
   "cell_type": "code",
   "execution_count": null,
   "id": "c236d68c",
   "metadata": {},
   "outputs": [],
   "source": [
    "def plot_rfc_auroc(y_test, y_pred_proba, title=\"ROC\"):\n",
    "    # Display an AUROC figure for the model\n",
    "    fpr, tpr, thresholds = roc_curve(y_test, y_pred_proba)\n",
    "\n",
    "    roc_df = pd.DataFrame({'FPR': fpr, 'TPR': tpr})\n",
    "    roc_auc = auc(fpr, tpr)\n",
    "\n",
    "    sns.lineplot(x='FPR', y='TPR', data=roc_df, label=f\"AUC = {roc_auc:0.2f}\", errorbar=None).set(title='ROC curve of model')\n",
    "    sns.lineplot(x=[0, 1], y=[0, 1], color='grey', linestyle='--').set(title=title)\n",
    "\n",
    "\n",
    "if verbose_load:\n",
    "    plot_rfc_auroc(y_test, target_model.predict_proba(X=X_test)[:,1])"
   ]
  },
  {
   "cell_type": "code",
   "execution_count": null,
   "id": "a18e2a24",
   "metadata": {},
   "outputs": [],
   "source": [
    "# Methods used by other \n",
    "\n",
    "def logit_scale(y_true, y_pred, eps=1e-16):\n",
    "    \"\"\"\n",
    "    Logit scaling from https://arxiv.org/abs/2112.03570\n",
    "    \"\"\"\n",
    "    if isinstance(y_true, np.integer):\n",
    "        y_true = [y_true] * len(y_pred)\n",
    "        \n",
    "    result = []\n",
    "    y_true = np.array(y_true)\n",
    "    y_pred = np.array(y_pred)\n",
    "    for i in range(len(y_true)):\n",
    "        y = y_true[i]\n",
    "        pred = y_pred[i, y]\n",
    "        result.append(\n",
    "            np.log(np.clip(pred / np.clip(1 - pred, eps, np.inf), eps, np.inf))\n",
    "        )\n",
    "    return np.array(result)\n",
    "\n",
    "\n",
    "def logits(target_model, X_true, y_true):\n",
    "    y_pred = target_model.predict_proba(X_true)\n",
    "    return logit_scale(y_true, y_pred)"
   ]
  }
 ],
 "metadata": {
  "kernelspec": {
   "display_name": "Python 3 (ipykernel)",
   "language": "python",
   "name": "python3"
  },
  "language_info": {
   "codemirror_mode": {
    "name": "ipython",
    "version": 3
   },
   "file_extension": ".py",
   "mimetype": "text/x-python",
   "name": "python",
   "nbconvert_exporter": "python",
   "pygments_lexer": "ipython3",
   "version": "3.10.9"
  }
 },
 "nbformat": 4,
 "nbformat_minor": 5
}
