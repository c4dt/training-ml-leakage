{
 "cells": [
  {
   "cell_type": "markdown",
   "id": "a4720fda",
   "metadata": {},
   "source": [
    "# Requirements\n",
    "\n",
    "Run this cell on your computer to install the necessary libraries for\n",
    "the following exercises.\n",
    "It has been tested with python-3.10.9 on a Mac."
   ]
  },
  {
   "cell_type": "code",
   "execution_count": null,
   "id": "6cd4fd04",
   "metadata": {},
   "outputs": [],
   "source": [
    "# Get tensorflow and all dependencies, as well as diffprivlib\n",
    "!pip install \"tensorflow>=2.12.0\" diffprivlib==0.6.2"
   ]
  },
  {
   "cell_type": "code",
   "execution_count": null,
   "id": "8f758197-d062-4098-b6d6-eae932e2b064",
   "metadata": {},
   "outputs": [],
   "source": [
    "# This is for getting metrics on neural networks and to apply DP to them\n",
    "!pip install privacy-meter==1.0 opacus==1.4.0"
   ]
  }
 ],
 "metadata": {
  "kernelspec": {
   "display_name": "Python 3 (ipykernel)",
   "language": "python",
   "name": "python3"
  },
  "language_info": {
   "codemirror_mode": {
    "name": "ipython",
    "version": 3
   },
   "file_extension": ".py",
   "mimetype": "text/x-python",
   "name": "python",
   "nbconvert_exporter": "python",
   "pygments_lexer": "ipython3",
   "version": "3.10.9"
  }
 },
 "nbformat": 4,
 "nbformat_minor": 5
}
