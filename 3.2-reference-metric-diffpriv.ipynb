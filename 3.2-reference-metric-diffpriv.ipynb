{
 "cells": [
  {
   "cell_type": "markdown",
   "id": "494e9cc6",
   "metadata": {},
   "source": [
    "# Reducing the reference metric\n",
    "\n",
    "Like for the population metric, we can train the RandomForest\n",
    "with Differential Privacy.\n",
    "By changing the `epsilon` of the classifier, the maximum leakage\n",
    "measured by the reference metric can be reduced.\n",
    "As with the population metric, reducing `epsilon` means also that\n",
    "our model will perform worse on the classification.\n",
    "\n",
    "## First exercices\n",
    "\n",
    "1. Start by using the improvement in `get_reference_metric` to speed up testing in this\n",
    "notebook\n",
    "1. Compare using different values for the `RandomForestClassifier` with the \n",
    "`DiffPrivLib` implementation\n",
    "1. Change the value of `epsilon` and compare the different `classification ROC` and the\n",
    "`reference metric ROC`\n",
    "\n",
    "## Further exercices\n",
    "\n",
    "1. Create a table of `classification ROC` / `reference metric ROC` figures for different values\n",
    "of `epsilon`\n",
    "1. Unsolved: can you find another speedup to calculate the reference metric faster while keeping the\n",
    "same precision?\n",
    "\n",
    "## NN exercices - no support\n",
    "\n",
    "Apply the `Opacus` library to the training before measuring the reference metric."
   ]
  },
  {
   "cell_type": "code",
   "execution_count": null,
   "id": "0641023f",
   "metadata": {
    "tags": []
   },
   "outputs": [],
   "source": [
    "%run 3.1-reference-metric-fast.ipynb"
   ]
  },
  {
   "cell_type": "code",
   "execution_count": null,
   "id": "a125d56f",
   "metadata": {
    "tags": []
   },
   "outputs": [],
   "source": [
    "from diffprivlib.models import RandomForestClassifier as dp_RFC\n",
    "\n",
    "# Use the RandomForestClassifier form the DiffPrivLib\n",
    "def train_model_dp(X_train, y_train, seed=42):\n",
    "    rfc = dp_RFC(\n",
    "        # Value from exercise: 90\n",
    "        n_estimators=90,\n",
    "        # Value from exercise: 9\n",
    "        max_depth=9,\n",
    "        random_state=seed,\n",
    "        # Value from exercise: 10\n",
    "        epsilon=10,\n",
    "        bounds=(np.min(X_train, axis=0), np.max(X_train, axis=0)),\n",
    "        classes=np.unique(y_train),\n",
    "    )\n",
    "    rfc.fit(X_train, y_train)\n",
    "    return rfc"
   ]
  },
  {
   "cell_type": "code",
   "execution_count": null,
   "id": "4920bd46",
   "metadata": {
    "tags": []
   },
   "outputs": [],
   "source": [
    "# Train a model using the DP-enabled RandomForestClassifier and plot the \n",
    "# ROC of the classifier itself.\n",
    "target_model_dp = train_model_dp(X_train, y_train)\n",
    "plot_rfc_auroc(y_test, target_model_dp.predict_proba(X=X_test)[:,1], \n",
    "               \"ROC of classifier with DP\")"
   ]
  },
  {
   "cell_type": "code",
   "execution_count": null,
   "id": "124ee293-5e2b-46c8-8ab4-a5966028dbab",
   "metadata": {},
   "outputs": [],
   "source": [
    "# Calculate the reference metric of the DP-enabled RFC.\n",
    "# This is very slow, as the DP-enabled RFC is much slower than the normal RFC.\n",
    "plot_reference_metric(train_model_dp, X_train, y_train, X_test, y_test, 20, 10)"
   ]
  }
 ],
 "metadata": {
  "kernelspec": {
   "display_name": "Python 3 (ipykernel)",
   "language": "python",
   "name": "python3"
  },
  "language_info": {
   "codemirror_mode": {
    "name": "ipython",
    "version": 3
   },
   "file_extension": ".py",
   "mimetype": "text/x-python",
   "name": "python",
   "nbconvert_exporter": "python",
   "pygments_lexer": "ipython3",
   "version": "3.10.9"
  }
 },
 "nbformat": 4,
 "nbformat_minor": 5
}
